{
 "cells": [
  {
   "cell_type": "code",
   "execution_count": 1,
   "metadata": {},
   "outputs": [],
   "source": [
    "import numpy as np\n",
    "import pandas as pd\n",
    "import json\n",
    "from functools import reduce\n",
    "from operator import itemgetter"
   ]
  },
  {
   "cell_type": "code",
   "execution_count": 2,
   "metadata": {},
   "outputs": [],
   "source": [
    "data = \"\"\n",
    "\n",
    "# This will contain all dsire data updated between Jan 1, 2010 and June 1, 2020"
   ]
  },
  {
   "cell_type": "code",
   "execution_count": 3,
   "metadata": {},
   "outputs": [],
   "source": [
    "with open('/Users/Jax/Desktop/Research with Evan/DSIRE_json_files/all_dsire_data.json','r') as read_file:\n",
    "    data = json.load(read_file)"
   ]
  },
  {
   "cell_type": "code",
   "execution_count": 4,
   "metadata": {},
   "outputs": [],
   "source": [
    "#data"
   ]
  },
  {
   "cell_type": "code",
   "execution_count": 5,
   "metadata": {},
   "outputs": [],
   "source": [
    "alldata = data[\"data\"]\n",
    "\n",
    "#alldata"
   ]
  },
  {
   "cell_type": "code",
   "execution_count": 6,
   "metadata": {},
   "outputs": [],
   "source": [
    "def getkeywords(row):\n",
    "    return set(row.keys())"
   ]
  },
  {
   "cell_type": "code",
   "execution_count": 7,
   "metadata": {},
   "outputs": [],
   "source": [
    "keywords = list(map(getkeywords, alldata))\n",
    "#keywords"
   ]
  },
  {
   "cell_type": "code",
   "execution_count": 8,
   "metadata": {},
   "outputs": [
    {
     "data": {
      "text/plain": [
       "{'Administrator',\n",
       " 'Authorities',\n",
       " 'Budget',\n",
       " 'CategoryId',\n",
       " 'CategoryName',\n",
       " 'Cities',\n",
       " 'Code',\n",
       " 'Contacts',\n",
       " 'Counties',\n",
       " 'Details',\n",
       " 'EndDate',\n",
       " 'FromSir',\n",
       " 'FundingSource',\n",
       " 'ImplementingSectorId',\n",
       " 'ImplementingSectorName',\n",
       " 'LastUpdate',\n",
       " 'Name',\n",
       " 'ProgramId',\n",
       " 'ProgramParameters',\n",
       " 'Sectors',\n",
       " 'StartDate',\n",
       " 'State',\n",
       " 'Summary',\n",
       " 'Technologies',\n",
       " 'TypeId',\n",
       " 'TypeName',\n",
       " 'Utilities',\n",
       " 'WebsiteUrl',\n",
       " 'ZipCodes'}"
      ]
     },
     "execution_count": 8,
     "metadata": {},
     "output_type": "execute_result"
    }
   ],
   "source": [
    "headers = reduce(lambda setA, setB: setA.union(setB), keywords)\n",
    "headers"
   ]
  },
  {
   "cell_type": "code",
   "execution_count": 9,
   "metadata": {},
   "outputs": [],
   "source": [
    "def cleanit(row):\n",
    "    for header in headers:\n",
    "        if header in row:\n",
    "            pass\n",
    "        else:\n",
    "            row[header] = 'no data included'\n",
    "    return row"
   ]
  },
  {
   "cell_type": "code",
   "execution_count": 10,
   "metadata": {},
   "outputs": [],
   "source": [
    "alldata_clean = []\n",
    "for row in alldata:\n",
    "    alldata_clean.append(cleanit(row))\n",
    "\n",
    "#alldata_clean"
   ]
  },
  {
   "cell_type": "code",
   "execution_count": 11,
   "metadata": {},
   "outputs": [],
   "source": [
    "def filterfunction(input_row):\n",
    "    for header in headers:\n",
    "        cell_value = input_row[header]\n",
    "        searchterm = \"match\"\n",
    "        if isinstance(cell_value, str) and searchterm in cell_value:\n",
    "            return True\n",
    "    return False"
   ]
  },
  {
   "cell_type": "code",
   "execution_count": null,
   "metadata": {},
   "outputs": [],
   "source": []
  },
  {
   "cell_type": "code",
   "execution_count": null,
   "metadata": {},
   "outputs": [],
   "source": []
  },
  {
   "cell_type": "code",
   "execution_count": null,
   "metadata": {},
   "outputs": [],
   "source": [
    "Matching_in_data = list(filter(filterfunction, alldata_clean))\n",
    "Matching_ids = list(map(itemgetter('ProgramId'), Matching_in_data))\n",
    "Matching_names = list(map(itemgetter('Name'), Matching_in_data))\n",
    "Matching_ids, Matching_names"
   ]
  },
  {
   "cell_type": "code",
   "execution_count": null,
   "metadata": {},
   "outputs": [],
   "source": [
    "matching_in_clean_data= list(filter(filterfunction, alldata_clean))\n",
    "matching_ids = list(map(itemgetter('ProgramId'), matching_in_clean_data))\n",
    "matching_names = list(map(itemgetter('Name'), matching_in_clean_data))\n",
    "matching_ids, matching_names"
   ]
  },
  {
   "cell_type": "code",
   "execution_count": 12,
   "metadata": {},
   "outputs": [],
   "source": [
    "# Results for \"matching\":\n",
    "\n",
    "# ([4894], ['Georgia Interfaith Power and Light - Energy Improvement Grants'])\n",
    "\n",
    "\n",
    "# ([1185,\n",
    "#   2029,\n",
    "#   2335,\n",
    "#   3080,\n",
    "#   3220,\n",
    "#   3266,\n",
    "#   3354,\n",
    "#   3585,\n",
    "#   3599,\n",
    "#   3601,\n",
    "#   3602,\n",
    "#   3648,\n",
    "#   3650,\n",
    "#   3651,\n",
    "#   4879,\n",
    "#   4929,\n",
    "#   5039,\n",
    "#   5163,\n",
    "#   5586,\n",
    "#   5754,\n",
    "#   5763,\n",
    "#   5884,\n",
    "#   5915,\n",
    "#   5945],\n",
    "#  ['Small Business Advantage Grant Program',\n",
    "#   'College Station Utilities - Residential Energy Back II Rebate Program',\n",
    "#   'Small Business Non-Profit Energy Audit Program',\n",
    "#   'Renewable Energy Grant Program',\n",
    "#   'Wind and Geothermal Incentives Program',\n",
    "#   'Edison Innovation Clean Energy Manufacturing Fund - Grants and Loans',\n",
    "#   'High Performance Building Incentives Program',\n",
    "#   'Empire Electric Association - Residential Energy Efficiency Rebate Program',\n",
    "#   'Wind and Geothermal Incentives Program',\n",
    "#   'Wind and Geothermal Incentives Program',\n",
    "#   'High Performance Buildings Incentive Program',\n",
    "#   'Alternative and Clean Energy Program',\n",
    "#   'Alternative and Clean Energy Program',\n",
    "#   'Alternative and Clean Energy Program',\n",
    "#   'Grants to Green Program',\n",
    "#   'River Falls Municipal Utilities - Non-Profit Energy Efficiency Rebate Program',\n",
    "#   'Commonwealth Organics-to-Energy Program',\n",
    "#   'Empire Electric Association - Commercial Energy Efficiency Rebate Program',\n",
    "#   'Michigan Accelerating Technologies (MATch) Energy Grant',\n",
    "#   'Wind and Geothermal Industry Incentives Program',\n",
    "#   'Xcel Energy - Small Business Energy Efficiency Rebates',\n",
    "#   'City of Louisville - Green Infrastructure Incentives',\n",
    "#   'City of Louisville - Green Infrastructure Incentive Program',\n",
    "#   'Solar Energy Loan Program'])"
   ]
  },
  {
   "cell_type": "code",
   "execution_count": null,
   "metadata": {},
   "outputs": [],
   "source": [
    "# ***check keyword in filterfuntion before running***\n",
    "\n",
    "Innovation_in_cleaned_data = list(filter(filterfunction, alldata_clean))\n",
    "Innovation_ids = list(map(itemgetter('ProgramId'), Innovation_in_cleaned_data))\n",
    "Innovation_names = list(map(itemgetter('Name'), Innovation_in_cleaned_data))\n",
    "Innovation_ids, Innovation_names"
   ]
  },
  {
   "cell_type": "code",
   "execution_count": null,
   "metadata": {},
   "outputs": [],
   "source": [
    "# ***check keyword in filterfuntion before running***\n",
    "\n",
    "innovation_in_cleaned_data = list(filter(filterfunction, alldata_clean))\n",
    "innovation_ids = list(map(itemgetter('ProgramId'), innovation_in_cleaned_data))\n",
    "innovation_names = list(map(itemgetter('Name'), innovation_in_cleaned_data))\n",
    "innovation_ids, innovation_names"
   ]
  },
  {
   "cell_type": "code",
   "execution_count": 13,
   "metadata": {},
   "outputs": [],
   "source": [
    "# Results for innovation:\n",
    "    \n",
    "    \n",
    "# ([3266, 3597, 4848, 4856, 4861, 4879, 5861, 22074],\n",
    "#  ['Edison Innovation Clean Energy Manufacturing Fund - Grants and Loans',\n",
    "#   'Guidance for Local Wind Energy Ordinances',\n",
    "#   'Edison Innovation Green Growth Fund Loans',\n",
    "#   'Small Wind Innovation Zone Program and Model Ordinance',\n",
    "#   'City of Indianapolis - Green Building Incentive Program',\n",
    "#   'Grants to Green Program',\n",
    "#   'Clean Energy Fund (CEF)',\n",
    "#   'Energy Innovation Grant Program'])\n",
    "\n",
    "\n",
    "\n",
    "# ([355, 453, 552, 1996, 2444, 2485, 4856, 5558, 5861, 5883, 21863],\n",
    "#  ['Illinois Clean Energy Community Foundation Grants',\n",
    "#   'Net Metering',\n",
    "#   'Self-Generation Incentive Program',\n",
    "#   'City of Ashland - Green Building Incentive',\n",
    "#   'Northern Plains EC - Commercial Energy Efficiency Loan Program',\n",
    "#   'Green Building Requirement',\n",
    "#   'Small Wind Innovation Zone Program and Model Ordinance',\n",
    "#   'City of Aspen and Pitkin County - Renewable Energy Mitigation Program Grants',\n",
    "#   'Clean Energy Fund (CEF)',\n",
    "#   'Clean Energy Standard',\n",
    "#   'Energy Efficiency Resource Standard'])"
   ]
  },
  {
   "cell_type": "code",
   "execution_count": null,
   "metadata": {},
   "outputs": [],
   "source": [
    "# ***check keyword in filterfuntion before running***\n",
    "\n",
    "Innovate_in_cleaned_data = list(filter(filterfunction, alldata_clean))\n",
    "Innovate_ids = list(map(itemgetter('ProgramId'), Innovate_in_cleaned_data))\n",
    "Innovate_names = list(map(itemgetter('Name'), Innovate_in_cleaned_data))\n",
    "Innovate_ids, Innovate_names\n"
   ]
  },
  {
   "cell_type": "code",
   "execution_count": null,
   "metadata": {},
   "outputs": [],
   "source": [
    "# ***check keyword in filterfuntion before running***\n",
    "\n",
    "innovate_in_cleaned_data = list(filter(filterfunction, alldata_clean))\n",
    "innovate_ids = list(map(itemgetter('ProgramId'), innovate_in_cleaned_data))\n",
    "innovate_names = list(map(itemgetter('Name'), innovate_in_cleaned_data))\n",
    "innovate_ids, innovate_names"
   ]
  },
  {
   "cell_type": "code",
   "execution_count": 14,
   "metadata": {},
   "outputs": [],
   "source": [
    "#No results for \"innovate\""
   ]
  },
  {
   "cell_type": "code",
   "execution_count": null,
   "metadata": {},
   "outputs": [],
   "source": [
    "# ***check keyword in filterfuntion before running***\n",
    "\n",
    "Diversity_in_cleaned_data = list(filter(filterfunction, alldata_clean))\n",
    "Diversity_ids = list(map(itemgetter('ProgramId'), Diversity_in_cleaned_data))\n",
    "Diversity_names = list(map(itemgetter('Name'), Diversity_in_cleaned_data))\n",
    "Diversity_ids, Diversity_names"
   ]
  },
  {
   "cell_type": "code",
   "execution_count": null,
   "metadata": {},
   "outputs": [],
   "source": [
    "# ***check keyword in filterfuntion before running***\n",
    "\n",
    "diversity_in_cleaned_data = list(filter(filterfunction, alldata_clean))\n",
    "diversity_ids = list(map(itemgetter('ProgramId'), diversity_in_cleaned_data))\n",
    "diversity_names = list(map(itemgetter('Name'), diversity_in_cleaned_data))\n",
    "diversity_ids, diversity_names"
   ]
  },
  {
   "cell_type": "code",
   "execution_count": 15,
   "metadata": {},
   "outputs": [],
   "source": [
    "#Results for \"diversity\":\n",
    "\n",
    "# ([3969], ['Enterprise Energy Fund Loans'])"
   ]
  },
  {
   "cell_type": "code",
   "execution_count": null,
   "metadata": {},
   "outputs": [],
   "source": [
    "# ***check keyword in filterfuntion before running***\n",
    "\n",
    "Diverse_in_cleaned_data = list(filter(filterfunction, alldata_clean))\n",
    "Diverse_ids = list(map(itemgetter('ProgramId'), Diverse_in_cleaned_data))\n",
    "Diverse_names = list(map(itemgetter('Name'), Diverse_in_cleaned_data))\n",
    "Diverse_ids, Diverse_names"
   ]
  },
  {
   "cell_type": "code",
   "execution_count": null,
   "metadata": {},
   "outputs": [],
   "source": [
    "# ***check keyword in filterfuntion before running***\n",
    "\n",
    "diverse_in_cleaned_data = list(filter(filterfunction, alldata_clean))\n",
    "diverse_ids = list(map(itemgetter('ProgramId'), diverse_in_cleaned_data))\n",
    "diverse_names = list(map(itemgetter('Name'), diverse_in_cleaned_data))\n",
    "diverse_ids, diverse_names"
   ]
  },
  {
   "cell_type": "code",
   "execution_count": 16,
   "metadata": {},
   "outputs": [],
   "source": [
    "# Results for \"diverse\":\n",
    "\n",
    "# ([2266, 4828],\n",
    "#  ['Diverse Power - Energy Efficient New Construction Rebate Programs',\n",
    "#   'Diverse Power - Energy Efficient Existing Homes Rebate Program'])\n"
   ]
  },
  {
   "cell_type": "code",
   "execution_count": null,
   "metadata": {},
   "outputs": [],
   "source": [
    "# ***check keyword in filterfuntion before running***\n",
    "\n",
    "Woman_in_cleaned_data = list(filter(filterfunction, alldata_clean))\n",
    "Woman_ids = list(map(itemgetter('ProgramId'), Woman_in_cleaned_data))\n",
    "Woman_names = list(map(itemgetter('Name'), Woman_in_cleaned_data))\n",
    "Woman_ids, Woman_names"
   ]
  },
  {
   "cell_type": "code",
   "execution_count": null,
   "metadata": {},
   "outputs": [],
   "source": [
    "# ***check keyword in filterfuntion before running***\n",
    "\n",
    "woman_in_cleaned_data = list(filter(filterfunction, alldata_clean))\n",
    "woman_ids = list(map(itemgetter('ProgramId'), woman_in_cleaned_data))\n",
    "woman_names = list(map(itemgetter('Name'), woman_in_cleaned_data))\n",
    "woman_ids, woman_names"
   ]
  },
  {
   "cell_type": "code",
   "execution_count": 17,
   "metadata": {},
   "outputs": [],
   "source": [
    "# No results for \"woman\""
   ]
  },
  {
   "cell_type": "code",
   "execution_count": null,
   "metadata": {},
   "outputs": [],
   "source": [
    "# ***check keyword in filterfuntion before running***\n",
    "\n",
    "Women_in_cleaned_data = list(filter(filterfunction, alldata_clean))\n",
    "Women_ids = list(map(itemgetter('ProgramId'), Women_in_cleaned_data))\n",
    "Women_names = list(map(itemgetter('Name'), Women_in_cleaned_data))\n",
    "Women_ids, Women_names"
   ]
  },
  {
   "cell_type": "code",
   "execution_count": null,
   "metadata": {},
   "outputs": [],
   "source": [
    "# ***check keyword in filterfuntion before running***\n",
    "\n",
    "women_in_cleaned_data = list(filter(filterfunction, alldata_clean))\n",
    "women_ids = list(map(itemgetter('ProgramId'), women_in_cleaned_data))\n",
    "women_names = list(map(itemgetter('Name'), women_in_cleaned_data))\n",
    "women_ids, women_names"
   ]
  },
  {
   "cell_type": "code",
   "execution_count": 18,
   "metadata": {},
   "outputs": [],
   "source": [
    "# No results for \"women\""
   ]
  },
  {
   "cell_type": "code",
   "execution_count": null,
   "metadata": {},
   "outputs": [],
   "source": [
    "# ***check keyword in filterfuntion before running***\n",
    "\n",
    "StateMatch_in_cleaned_data = list(filter(filterfunction, alldata_clean))\n",
    "StateMatch_ids = list(map(itemgetter('ProgramId'), StateMatch_in_cleaned_data))\n",
    "StateMatch_names = list(map(itemgetter('Name'), StateMatch_in_cleaned_data))\n",
    "StateMatch_ids, StateMatch_names"
   ]
  },
  {
   "cell_type": "code",
   "execution_count": null,
   "metadata": {},
   "outputs": [],
   "source": [
    "# ***check keyword in filterfuntion before running***\n",
    "\n",
    "Statematch_in_cleaned_data = list(filter(filterfunction, alldata_clean))\n",
    "Statematch_ids = list(map(itemgetter('ProgramId'), Statematch_in_cleaned_data))\n",
    "Statematch_names = list(map(itemgetter('Name'), Statematch_in_cleaned_data))\n",
    "Statematch_ids, Statematch_names"
   ]
  },
  {
   "cell_type": "code",
   "execution_count": null,
   "metadata": {},
   "outputs": [],
   "source": [
    "# ***check keyword in filterfuntion before running***\n",
    "\n",
    "stateMatch_in_cleaned_data = list(filter(filterfunction, alldata_clean))\n",
    "stateMatch_ids = list(map(itemgetter('ProgramId'), stateMatch_in_cleaned_data))\n",
    "stateMatch_names = list(map(itemgetter('Name'), stateMatch_in_cleaned_data))\n",
    "stateMatch_ids, stateMatch_names"
   ]
  },
  {
   "cell_type": "code",
   "execution_count": null,
   "metadata": {},
   "outputs": [],
   "source": [
    "# ***check keyword in filterfuntion before running***\n",
    "\n",
    "statematch_in_cleaned_data = list(filter(filterfunction, alldata_clean))\n",
    "statematch_ids = list(map(itemgetter('ProgramId'), statematch_in_cleaned_data))\n",
    "statematch_names = list(map(itemgetter('Name'), statematch_in_cleaned_data))\n",
    "statematch_ids, statematch_names"
   ]
  },
  {
   "cell_type": "code",
   "execution_count": 19,
   "metadata": {},
   "outputs": [],
   "source": [
    "#No results for \"state match\""
   ]
  },
  {
   "cell_type": "code",
   "execution_count": null,
   "metadata": {},
   "outputs": [],
   "source": [
    "# ***check keyword in filterfuntion before running***\n",
    "\n",
    "Match_in_cleaned_data = list(filter(filterfunction, alldata_clean))\n",
    "Match_ids = list(map(itemgetter('ProgramId'), Match_in_cleaned_data))\n",
    "Match_names = list(map(itemgetter('Name'), Match_in_cleaned_data))\n",
    "Match_ids, Match_names"
   ]
  },
  {
   "cell_type": "code",
   "execution_count": null,
   "metadata": {},
   "outputs": [],
   "source": [
    "# ***check keyword in filterfuntion before running***\n",
    "\n",
    "match_in_cleaned_data = list(filter(filterfunction, alldata_clean))\n",
    "match_ids = list(map(itemgetter('ProgramId'), match_in_cleaned_data))\n",
    "match_names = list(map(itemgetter('Name'), match_in_cleaned_data))\n",
    "match_ids, match_names"
   ]
  },
  {
   "cell_type": "code",
   "execution_count": 20,
   "metadata": {},
   "outputs": [],
   "source": [
    "# Results for \"match\":\n",
    "    \n",
    "    \n",
    "# ([4894, 5205],\n",
    "#  ['Georgia Interfaith Power and Light - Energy Improvement Grants',\n",
    "#   'Small Scale CHP and Fuel Cell Incentive Program'])\n",
    "\n",
    "# ([37,\n",
    "#   236,\n",
    "#   371,\n",
    "#   1185,\n",
    "#   2029,\n",
    "#   2335,\n",
    "#   2380,\n",
    "#   2434,\n",
    "#   2716,\n",
    "#   3022,\n",
    "#   3080,\n",
    "#   3202,\n",
    "#   3220,\n",
    "#   3266,\n",
    "#   3354,\n",
    "#   3474,\n",
    "#   3585,\n",
    "#   3599,\n",
    "#   3601,\n",
    "#   3602,\n",
    "#   3648,\n",
    "#   3650,\n",
    "#   3651,\n",
    "#   4528,\n",
    "#   4848,\n",
    "#   4879,\n",
    "#   4894,\n",
    "#   4929,\n",
    "#   5018,\n",
    "#   5039,\n",
    "#   5069,\n",
    "#   5163,\n",
    "#   5586,\n",
    "#   5745,\n",
    "#   5754,\n",
    "#   5763,\n",
    "#   5826,\n",
    "#   5884,\n",
    "#   5886,\n",
    "#   5892,\n",
    "#   5915,\n",
    "#   5945],\n",
    "#  ['Net Metering',\n",
    "#   'State Energy Loan Program',\n",
    "#   'Montgomery County - Green Power Purchasing',\n",
    "#   'Small Business Advantage Grant Program',\n",
    "#   'College Station Utilities - Residential Energy Back II Rebate Program',\n",
    "#   'Small Business Non-Profit Energy Audit Program',\n",
    "#   'Net Metering',\n",
    "#   'Columbia Water & Light - Residential HVAC Rebates',\n",
    "#   'Methane Digester Loan Program',\n",
    "#   'Energy Standards for Public Buildings',\n",
    "#   'Renewable Energy Grant Program',\n",
    "#   'School Facility Program - Modernization Grants',\n",
    "#   'Wind and Geothermal Incentives Program',\n",
    "#   'Edison Innovation Clean Energy Manufacturing Fund - Grants and Loans',\n",
    "#   'High Performance Building Incentives Program',\n",
    "#   'Central Hudson Gas & Electric (Electric) - Commercial Rebate Program',\n",
    "#   'Empire Electric Association - Residential Energy Efficiency Rebate Program',\n",
    "#   'Wind and Geothermal Incentives Program',\n",
    "#   'Wind and Geothermal Incentives Program',\n",
    "#   'High Performance Buildings Incentive Program',\n",
    "#   'Alternative and Clean Energy Program',\n",
    "#   'Alternative and Clean Energy Program',\n",
    "#   'Alternative and Clean Energy Program',\n",
    "#   'Oklahoma Municipal Power Authority - Commercial and Industrial Energy Efficiency Program',\n",
    "#   'Edison Innovation Green Growth Fund Loans',\n",
    "#   'Grants to Green Program',\n",
    "#   'Georgia Interfaith Power and Light - Energy Improvement Grants',\n",
    "#   'River Falls Municipal Utilities - Non-Profit Energy Efficiency Rebate Program',\n",
    "#   'Loveland Water & Power - Residential Energy Efficiency Rebate Program',\n",
    "#   'Commonwealth Organics-to-Energy Program',\n",
    "#   'Energy Loan Fund',\n",
    "#   'Empire Electric Association - Commercial Energy Efficiency Rebate Program',\n",
    "#   'Michigan Accelerating Technologies (MATch) Energy Grant',\n",
    "#   'CenterPoint Energy A/C Distributor Program',\n",
    "#   'Wind and Geothermal Industry Incentives Program',\n",
    "#   'Xcel Energy - Small Business Energy Efficiency Rebates',\n",
    "#   'Energy Efficiency Grants',\n",
    "#   'City of Louisville - Green Infrastructure Incentives',\n",
    "#   'Fairfax County- Conservation Assistance Program (CAP)',\n",
    "#   'Local Government Energy Audit/Retrofits',\n",
    "#   'City of Louisville - Green Infrastructure Incentive Program',\n",
    "#   'Solar Energy Loan Program'])"
   ]
  },
  {
   "cell_type": "code",
   "execution_count": null,
   "metadata": {},
   "outputs": [],
   "source": []
  },
  {
   "cell_type": "code",
   "execution_count": null,
   "metadata": {},
   "outputs": [],
   "source": []
  },
  {
   "cell_type": "code",
   "execution_count": null,
   "metadata": {},
   "outputs": [],
   "source": []
  },
  {
   "cell_type": "code",
   "execution_count": null,
   "metadata": {},
   "outputs": [],
   "source": []
  }
 ],
 "metadata": {
  "kernelspec": {
   "display_name": "Python 3",
   "language": "python",
   "name": "python3"
  },
  "language_info": {
   "codemirror_mode": {
    "name": "ipython",
    "version": 3
   },
   "file_extension": ".py",
   "mimetype": "text/x-python",
   "name": "python",
   "nbconvert_exporter": "python",
   "pygments_lexer": "ipython3",
   "version": "3.7.6"
  }
 },
 "nbformat": 4,
 "nbformat_minor": 4
}
