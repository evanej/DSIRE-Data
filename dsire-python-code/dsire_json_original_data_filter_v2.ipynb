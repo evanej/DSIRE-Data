{
 "cells": [
  {
   "cell_type": "code",
   "execution_count": 1,
   "metadata": {},
   "outputs": [],
   "source": [
    "# This file contains the json version of the DSIRE data\n",
    "# The three files are first uploaded into jupyter notebook,\n",
    "#     then compiled into one file, and then filtered for each of\n",
    "#     the key terms in their own cell\n",
    "# The filter results are listed in comments after each cell\n",
    "\n",
    "# Note that the files are originally pulled from my desktop, so for\n",
    "#     someone else to use this code, those lines need to be updated\n",
    "# Also note that to filter for a word, it must be changed in the\n",
    "#     \"filterfunction\" function under \"searchterm\""
   ]
  },
  {
   "cell_type": "code",
   "execution_count": 2,
   "metadata": {},
   "outputs": [],
   "source": [
    "import numpy as np\n",
    "import pandas as pd\n",
    "import json\n",
    "from functools import reduce\n",
    "from operator import itemgetter"
   ]
  },
  {
   "cell_type": "code",
   "execution_count": 3,
   "metadata": {},
   "outputs": [],
   "source": [
    "data1 = \"\"\n",
    "data2 = \"\"\n",
    "data3 = \"\"\n",
    "#data1 will be DSIRE data from Jan. 1, 2010 - Dec. 31, 2013\n",
    "#data2 will be DSIRE data Jan. 1, 2014 - Dec. 31, 2016\n",
    "#data3 will be DSIRE data Jan. 1, 2017 - July 1, 2020"
   ]
  },
  {
   "cell_type": "code",
   "execution_count": 4,
   "metadata": {},
   "outputs": [],
   "source": [
    "with open('/Users/Jax/Desktop/Research with Evan/DSIRE_json_files/dsire_2010-2013.json', 'r') as read_file:\n",
    "    data1 = json.load(read_file)"
   ]
  },
  {
   "cell_type": "code",
   "execution_count": 5,
   "metadata": {},
   "outputs": [],
   "source": [
    "#data1"
   ]
  },
  {
   "cell_type": "code",
   "execution_count": 6,
   "metadata": {},
   "outputs": [],
   "source": [
    "with open('/Users/Jax/Desktop/Research with Evan/DSIRE_json_files/dsire_2014-2016.json', 'r') as read_file:\n",
    "    data2 = json.load(read_file)"
   ]
  },
  {
   "cell_type": "code",
   "execution_count": 7,
   "metadata": {},
   "outputs": [],
   "source": [
    "#data2"
   ]
  },
  {
   "cell_type": "code",
   "execution_count": 8,
   "metadata": {},
   "outputs": [],
   "source": [
    "with open('/Users/Jax/Desktop/Research with Evan/DSIRE_json_files/dsire_2017-2020.json', 'r') as read_file:\n",
    "    data3= json.load(read_file)"
   ]
  },
  {
   "cell_type": "code",
   "execution_count": 9,
   "metadata": {},
   "outputs": [],
   "source": [
    "#data3"
   ]
  },
  {
   "cell_type": "code",
   "execution_count": 10,
   "metadata": {},
   "outputs": [],
   "source": [
    "datalist1 = data1[\"data\"]\n",
    "datalist2 = data2[\"data\"]\n",
    "datalist3 = data3[\"data\"]\n",
    "\n",
    "#Includes just the data from each dataset, not the metadata listed at the end of each file"
   ]
  },
  {
   "cell_type": "code",
   "execution_count": null,
   "metadata": {},
   "outputs": [],
   "source": []
  },
  {
   "cell_type": "code",
   "execution_count": null,
   "metadata": {},
   "outputs": [],
   "source": []
  },
  {
   "cell_type": "code",
   "execution_count": null,
   "metadata": {},
   "outputs": [],
   "source": [
    "#Tests to figure out how to best combine the data:"
   ]
  },
  {
   "cell_type": "code",
   "execution_count": null,
   "metadata": {},
   "outputs": [],
   "source": [
    "# test_data_1 = []\n",
    "# test_data_1.append(datalist1[0])\n",
    "# test_data_1.append(datalist1[1])\n",
    "# test_data_2 = []\n",
    "# test_data_2.append(datalist2[1])\n",
    "# test_data_2.append(datalist2[5])\n",
    "# print(\"test data 1:\", test_data_1, \"\\n\", \"\\n\", \"Test Data 2:\", test_data_2)"
   ]
  },
  {
   "cell_type": "code",
   "execution_count": null,
   "metadata": {},
   "outputs": [],
   "source": [
    "# merge_test = []\n",
    "# merge_test = test_data_1 + test_data_2\n",
    "# merge_test"
   ]
  },
  {
   "cell_type": "code",
   "execution_count": null,
   "metadata": {},
   "outputs": [],
   "source": [
    "#Combining the data:"
   ]
  },
  {
   "cell_type": "code",
   "execution_count": 11,
   "metadata": {},
   "outputs": [],
   "source": [
    "alldata = datalist1 + datalist2\n",
    "alldata = alldata + datalist3\n",
    "#alldata"
   ]
  },
  {
   "cell_type": "code",
   "execution_count": null,
   "metadata": {},
   "outputs": [],
   "source": [
    "#Above here, I merged the three json files into one file called \"alldata\"\n",
    "#This new file does not include any metadata, which can be found in the separate and original three files"
   ]
  },
  {
   "cell_type": "code",
   "execution_count": null,
   "metadata": {},
   "outputs": [],
   "source": [
    "#Next I will clean the data some\n",
    "#I will make sure all dictionaries have the same data keys"
   ]
  },
  {
   "cell_type": "code",
   "execution_count": 12,
   "metadata": {},
   "outputs": [],
   "source": [
    "def getkeywords(row):\n",
    "    return set(row.keys())"
   ]
  },
  {
   "cell_type": "code",
   "execution_count": 13,
   "metadata": {},
   "outputs": [],
   "source": [
    "keywords = list(map(getkeywords, alldata))\n",
    "#keywords"
   ]
  },
  {
   "cell_type": "code",
   "execution_count": 14,
   "metadata": {},
   "outputs": [
    {
     "data": {
      "text/plain": [
       "{'Administrator',\n",
       " 'Authorities',\n",
       " 'Budget',\n",
       " 'CategoryId',\n",
       " 'CategoryName',\n",
       " 'Cities',\n",
       " 'Code',\n",
       " 'Contacts',\n",
       " 'Counties',\n",
       " 'Details',\n",
       " 'EndDate',\n",
       " 'FromSir',\n",
       " 'FundingSource',\n",
       " 'ImplementingSectorId',\n",
       " 'ImplementingSectorName',\n",
       " 'LastUpdate',\n",
       " 'Name',\n",
       " 'ProgramId',\n",
       " 'ProgramParameters',\n",
       " 'Published',\n",
       " 'Sectors',\n",
       " 'StartDate',\n",
       " 'State',\n",
       " 'Technologies',\n",
       " 'TypeId',\n",
       " 'TypeName',\n",
       " 'Utilities',\n",
       " 'WebsiteUrl',\n",
       " 'ZipCodes'}"
      ]
     },
     "execution_count": 14,
     "metadata": {},
     "output_type": "execute_result"
    }
   ],
   "source": [
    "headers = reduce(lambda setA, setB: setA.union(setB), keywords)\n",
    "headers"
   ]
  },
  {
   "cell_type": "code",
   "execution_count": 15,
   "metadata": {},
   "outputs": [],
   "source": [
    "def cleanit(row):\n",
    "    for header in headers:\n",
    "        if header in row:\n",
    "            pass\n",
    "        else:\n",
    "            row[header] = \"no data included\"\n",
    "    return row"
   ]
  },
  {
   "cell_type": "code",
   "execution_count": 16,
   "metadata": {
    "scrolled": false
   },
   "outputs": [],
   "source": [
    "alldata_clean = []\n",
    "for row in alldata:\n",
    "    alldata_clean.append(cleanit(row))\n",
    "    \n",
    "#alldata_clean"
   ]
  },
  {
   "cell_type": "code",
   "execution_count": null,
   "metadata": {},
   "outputs": [],
   "source": []
  },
  {
   "cell_type": "code",
   "execution_count": null,
   "metadata": {},
   "outputs": [],
   "source": []
  },
  {
   "cell_type": "code",
   "execution_count": 17,
   "metadata": {},
   "outputs": [],
   "source": [
    "def filterfunction(input_row):\n",
    "    for header in headers:\n",
    "        cell_value = input_row[header]\n",
    "        searchterm = \"Matching\"\n",
    "        if isinstance(cell_value, str) and searchterm in cell_value:\n",
    "            return True\n",
    "    return False"
   ]
  },
  {
   "cell_type": "code",
   "execution_count": null,
   "metadata": {},
   "outputs": [],
   "source": [
    "# *** The \"searchterm\" must be changed to match each of the\n",
    "#     following codes***\n",
    "\n",
    "\n"
   ]
  },
  {
   "cell_type": "code",
   "execution_count": null,
   "metadata": {},
   "outputs": [],
   "source": []
  },
  {
   "cell_type": "code",
   "execution_count": null,
   "metadata": {},
   "outputs": [],
   "source": [
    "# ***check keyword in filterfuntion before running***\n",
    "\n",
    "Innovation_in_cleaned_data = list(filter(filterfunction, alldata_clean))\n",
    "Innovation_ids = list(map(itemgetter('ProgramId'), Innovation_in_cleaned_data))\n",
    "Innovation_names = list(map(itemgetter('Name'), Innovation_in_cleaned_data))\n",
    "Innovation_ids, Innovation_names"
   ]
  },
  {
   "cell_type": "code",
   "execution_count": null,
   "metadata": {},
   "outputs": [],
   "source": [
    "# ***check keyword in filterfuntion before running***\n",
    "\n",
    "innovation_in_cleaned_data = list(filter(filterfunction, alldata_clean))\n",
    "innovation_ids = list(map(itemgetter('ProgramId'), innovation_in_cleaned_data))\n",
    "innovation_names = list(map(itemgetter('Name'), innovation_in_cleaned_data))\n",
    "innovation_ids, innovation_names"
   ]
  },
  {
   "cell_type": "code",
   "execution_count": 18,
   "metadata": {},
   "outputs": [],
   "source": [
    "#ProgramIds for key term \"Innovation\":\n",
    "#[3678, 3758, 4327, 4931, 5122, 1646, 3266, 3597, 4848, 4856, 22074]\n",
    "\n",
    "#Names for key term \"Innovation\":\n",
    "#['Edison Innovation Clean Energy Fund',\n",
    "#  'Lincoln Electric System (LES) - Commercial and Industrial Energy-Efficiency Innovation Grant',\n",
    "#  'Tennessee Solar Institute - Solar Innovation Grant Program',\n",
    "#  'Innovation Incentive Program',\n",
    "#  'NYSERDA - Innovation in Manufacturing Clean Energy Technologies',\n",
    "#  'Community Innovations Grant Program',\n",
    "#  'Edison Innovation Clean Energy Manufacturing Fund - Grants and Loans',\n",
    "#  'Guidance for Local Wind Energy Ordinances',\n",
    "#  'Edison Innovation Green Growth Fund Loans',\n",
    "#  'Small Wind Innovation Zone Program and Model Ordinance',\n",
    "#  'Energy Innovation Grant Program']\n",
    "\n",
    "\n",
    "# This list includes both capital and lowercase \"Innovation\""
   ]
  },
  {
   "cell_type": "code",
   "execution_count": null,
   "metadata": {},
   "outputs": [],
   "source": [
    "# ***check keyword in filterfuntion before running***\n"
   ]
  },
  {
   "cell_type": "code",
   "execution_count": null,
   "metadata": {},
   "outputs": [],
   "source": [
    "# ***check keyword in filterfuntion before running***\n",
    "\n",
    "innovate_in_cleaned_data = list(filter(filterfunction, alldata_clean))\n",
    "innovate_ids = list(map(itemgetter('ProgramId'), innovate_in_cleaned_data))\n",
    "innovate_names = list(map(itemgetter('Name'), innovate_in_cleaned_data))\n",
    "innovate_ids, innovate_names\n",
    "\n",
    "\n",
    "# \"innovate\" does not exist in the data"
   ]
  },
  {
   "cell_type": "code",
   "execution_count": null,
   "metadata": {},
   "outputs": [],
   "source": [
    "# ***check keyword in filterfuntion before running***\n",
    "\n",
    "Innovate_in_cleaned_data = list(filter(filterfunction, alldata_clean))\n",
    "Innovate_ids = list(map(itemgetter('ProgramId'), Innovate_in_cleaned_data))\n",
    "Innovate_names = list(map(itemgetter('Name'), Innovate_in_cleaned_data))\n",
    "Innovate_ids, Innovate_names\n",
    "\n",
    "#\"Innovate\" does not exist in the data"
   ]
  },
  {
   "cell_type": "code",
   "execution_count": null,
   "metadata": {},
   "outputs": [],
   "source": []
  },
  {
   "cell_type": "code",
   "execution_count": null,
   "metadata": {},
   "outputs": [],
   "source": [
    "# ***check keyword in filterfuntion before running***\n",
    "\n",
    "diversity_in_cleaned_data = list(filter(filterfunction, alldata_clean))\n",
    "diversity_ids = list(map(itemgetter('ProgramId'), diversity_in_cleaned_data))\n",
    "diversity_names = list(map(itemgetter('Name'), diversity_in_cleaned_data))\n",
    "diversity_ids, diversity_names\n",
    "\n",
    "# \"diversity\" does not exist in the data"
   ]
  },
  {
   "cell_type": "code",
   "execution_count": null,
   "metadata": {},
   "outputs": [],
   "source": [
    "# ***check keyword in filterfuntion before running***\n",
    "\n",
    "Diversity_in_cleaned_data = list(filter(filterfunction, alldata_clean))\n",
    "Diversity_ids = list(map(itemgetter('ProgramId'), Diversity_in_cleaned_data))\n",
    "Diversity_names = list(map(itemgetter('Name'), Diversity_in_cleaned_data))\n",
    "Diversity_ids, Diversity_names\n",
    "\n",
    "# \"Diversity\" does not exist in the data"
   ]
  },
  {
   "cell_type": "code",
   "execution_count": null,
   "metadata": {},
   "outputs": [],
   "source": []
  },
  {
   "cell_type": "code",
   "execution_count": null,
   "metadata": {},
   "outputs": [],
   "source": [
    "# ***check keyword in filterfuntion before running***\n",
    "\n",
    "diverse_in_cleaned_data = list(filter(filterfunction, alldata_clean))\n",
    "diverse_ids = list(map(itemgetter('ProgramId'), diverse_in_cleaned_data))\n",
    "diverse_names = list(map(itemgetter('Name'), diverse_in_cleaned_data))\n",
    "diverse_ids, diverse_names"
   ]
  },
  {
   "cell_type": "code",
   "execution_count": null,
   "metadata": {},
   "outputs": [],
   "source": [
    "# ***check keyword in filterfuntion before running***\n",
    "\n",
    "Diverse_in_cleaned_data = list(filter(filterfunction, alldata_clean))\n",
    "Diverse_ids = list(map(itemgetter('ProgramId'), Diverse_in_cleaned_data))\n",
    "Diverse_names = list(map(itemgetter('Name'), Diverse_in_cleaned_data))\n",
    "Diverse_ids, Diverse_names"
   ]
  },
  {
   "cell_type": "code",
   "execution_count": 19,
   "metadata": {},
   "outputs": [],
   "source": [
    "# ProgramIds for key term \"diverse\":\n",
    "# [2266, 4828, 21032]\n",
    "# Names of Programs for key term \"diverse\":\n",
    "#['Diverse Power - Energy Efficient New Construction Rebate Programs',\n",
    "#  'Diverse Power - Energy Efficient Existing Homes Rebate Program',\n",
    "#  'Diverse Power - Green Power']\n",
    "\n",
    "# This includes results for both upper and lower case \"Diverse\""
   ]
  },
  {
   "cell_type": "code",
   "execution_count": null,
   "metadata": {},
   "outputs": [],
   "source": []
  },
  {
   "cell_type": "code",
   "execution_count": null,
   "metadata": {},
   "outputs": [],
   "source": [
    "# ***check keyword in filterfuntion before running***\n",
    "\n",
    "woman_in_cleaned_data = list(filter(filterfunction, alldata_clean))\n",
    "woman_ids = list(map(itemgetter('ProgramId'), woman_in_cleaned_data))\n",
    "woman_names = list(map(itemgetter('Name'), woman_in_cleaned_data))\n",
    "woman_ids, woman_names\n",
    "\n",
    "# \"woman\" does not exist in the data"
   ]
  },
  {
   "cell_type": "code",
   "execution_count": null,
   "metadata": {},
   "outputs": [],
   "source": [
    "# ***check keyword in filterfuntion before running***\n",
    "\n",
    "Woman_in_cleaned_data = list(filter(filterfunction, alldata_clean))\n",
    "Woman_ids = list(map(itemgetter('ProgramId'), Woman_in_cleaned_data))\n",
    "Woman_names = list(map(itemgetter('Name'), Woman_in_cleaned_data))\n",
    "Woman_ids, Woman_names\n",
    "\n",
    "# \"Woman\" does not exist in the data"
   ]
  },
  {
   "cell_type": "code",
   "execution_count": null,
   "metadata": {},
   "outputs": [],
   "source": []
  },
  {
   "cell_type": "code",
   "execution_count": null,
   "metadata": {},
   "outputs": [],
   "source": [
    "# ***check keyword in filterfuntion before running***\n",
    "\n",
    "women_in_cleaned_data = list(filter(filterfunction, alldata_clean))\n",
    "women_ids = list(map(itemgetter('ProgramId'), women_in_cleaned_data))\n",
    "women_names = list(map(itemgetter('Name'), women_in_cleaned_data))\n",
    "women_ids, women_names\n",
    "\n",
    "# \"women\" does not exist in the data"
   ]
  },
  {
   "cell_type": "code",
   "execution_count": null,
   "metadata": {},
   "outputs": [],
   "source": [
    "# ***check keyword in filterfuntion before running***\n",
    "\n",
    "Women_in_cleaned_data = list(filter(filterfunction, alldata_clean))\n",
    "Women_ids = list(map(itemgetter('ProgramId'), Women_in_cleaned_data))\n",
    "Women_names = list(map(itemgetter('Name'), Women_in_cleaned_data))\n",
    "Women_ids, Women_names\n",
    "\n",
    "# \"Women\" does not exist in the data"
   ]
  },
  {
   "cell_type": "code",
   "execution_count": null,
   "metadata": {},
   "outputs": [],
   "source": []
  },
  {
   "cell_type": "code",
   "execution_count": null,
   "metadata": {},
   "outputs": [],
   "source": [
    "# ***check keyword in filterfuntion before running***\n",
    "\n",
    "statematch_in_cleaned_data = list(filter(filterfunction, alldata_clean))\n",
    "statematch_ids = list(map(itemgetter('ProgramId'), statematch_in_cleaned_data))\n",
    "statematch_names = list(map(itemgetter('Name'), statematch_in_cleaned_data))\n",
    "statematch_ids, statematch_names"
   ]
  },
  {
   "cell_type": "code",
   "execution_count": null,
   "metadata": {},
   "outputs": [],
   "source": [
    "# ***check keyword in filterfuntion before running***\n",
    "\n",
    "Statematch_in_cleaned_data = list(filter(filterfunction, alldata_clean))\n",
    "Statematch_ids = list(map(itemgetter('ProgramId'), Statematch_in_cleaned_data))\n",
    "Statematch_names = list(map(itemgetter('Name'), Statematch_in_cleaned_data))\n",
    "Statematch_ids, Statematch_names"
   ]
  },
  {
   "cell_type": "code",
   "execution_count": null,
   "metadata": {},
   "outputs": [],
   "source": [
    "# ***check keyword in filterfuntion before running***\n",
    "\n",
    "stateMatch_in_cleaned_data = list(filter(filterfunction, alldata_clean))\n",
    "stateMatch_ids = list(map(itemgetter('ProgramId'), stateMatch_in_cleaned_data))\n",
    "stateMatch_names = list(map(itemgetter('Name'), stateMatch_in_cleaned_data))\n",
    "stateMatch_ids, stateMatch_names"
   ]
  },
  {
   "cell_type": "code",
   "execution_count": null,
   "metadata": {},
   "outputs": [],
   "source": [
    "# ***check keyword in filterfuntion before running***\n",
    "\n",
    "StateMatch_in_cleaned_data = list(filter(filterfunction, alldata_clean))\n",
    "StateMatch_ids = list(map(itemgetter('ProgramId'), StateMatch_in_cleaned_data))\n",
    "StateMatch_names = list(map(itemgetter('Name'), StateMatch_in_cleaned_data))\n",
    "StateMatch_ids, StateMatch_names"
   ]
  },
  {
   "cell_type": "code",
   "execution_count": null,
   "metadata": {},
   "outputs": [],
   "source": [
    "# \"State Match\" does not exist in the data in any capitalization form"
   ]
  },
  {
   "cell_type": "code",
   "execution_count": null,
   "metadata": {},
   "outputs": [],
   "source": []
  },
  {
   "cell_type": "code",
   "execution_count": null,
   "metadata": {},
   "outputs": [],
   "source": [
    "# ***check keyword in filterfuntion before running***\n",
    "\n",
    "matching_in_cleaned_data = list(filter(filterfunction, alldata_clean))\n",
    "matching_ids = list(map(itemgetter('ProgramId'), matching_in_cleaned_data))\n",
    "matching_names = list(map(itemgetter('Name'), matching_in_cleaned_data))\n",
    "matching_ids, matching_names\n",
    "\n",
    "# 'matching' does not exist in the data"
   ]
  },
  {
   "cell_type": "code",
   "execution_count": null,
   "metadata": {},
   "outputs": [],
   "source": [
    "# ***check keyword in filterfuntion before running***\n",
    "\n",
    "Matching_in_cleaned_data = list(filter(filterfunction, alldata_clean))\n",
    "Matching_ids = list(map(itemgetter('ProgramId'), Matching_in_cleaned_data))\n",
    "Matching_names = list(map(itemgetter('Name'), Matching_in_cleaned_data))\n",
    "Matching_ids, Matching_names"
   ]
  },
  {
   "cell_type": "code",
   "execution_count": 20,
   "metadata": {},
   "outputs": [],
   "source": [
    "# ProgramIds for the key term \"Matching\":\n",
    "# [332, 4602]\n",
    "\n",
    "\n",
    "# Name of Program for key term \"Matching\":\n",
    "#['MTC - Matching Grants for Communities',\n",
    "#  'Oncor Electric Delivery - City and School Matching Grant Program']"
   ]
  },
  {
   "cell_type": "code",
   "execution_count": null,
   "metadata": {},
   "outputs": [],
   "source": [
    "#alldata_clean"
   ]
  },
  {
   "cell_type": "code",
   "execution_count": null,
   "metadata": {},
   "outputs": [],
   "source": []
  },
  {
   "cell_type": "code",
   "execution_count": null,
   "metadata": {},
   "outputs": [],
   "source": []
  }
 ],
 "metadata": {
  "kernelspec": {
   "display_name": "Python 3",
   "language": "python",
   "name": "python3"
  },
  "language_info": {
   "codemirror_mode": {
    "name": "ipython",
    "version": 3
   },
   "file_extension": ".py",
   "mimetype": "text/x-python",
   "name": "python",
   "nbconvert_exporter": "python",
   "pygments_lexer": "ipython3",
   "version": "3.7.6"
  }
 },
 "nbformat": 4,
 "nbformat_minor": 4
}
