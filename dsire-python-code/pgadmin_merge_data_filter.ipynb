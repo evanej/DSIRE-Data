{
 "cells": [
  {
   "cell_type": "code",
   "execution_count": 21,
   "metadata": {},
   "outputs": [],
   "source": [
    "#This notebook contains code to import DSIRE data that has been merged back together\n",
    "#  (specifically the program, authority, subscription_memo, program_type, and program_detail)\n",
    "#The file (pgadmind_dsire_merge_1.csv) can be found in GitHub in the csv folder \n",
    "#This notebook counts the number of times the defined searchterms appear in the summary\n",
    "#  column of the data\n",
    "#The notebook also searches for defined searchterms in either the summary column or all\n",
    "#  columns in the data and returns both the program ID and name for the row the searchterm\n",
    "#  appeared in\n"
   ]
  },
  {
   "cell_type": "code",
   "execution_count": 2,
   "metadata": {},
   "outputs": [],
   "source": [
    "#First, import data and turn it into strings so it can be used easily"
   ]
  },
  {
   "cell_type": "code",
   "execution_count": 3,
   "metadata": {},
   "outputs": [],
   "source": [
    "import numpy as np\n",
    "import pandas as pd"
   ]
  },
  {
   "cell_type": "code",
   "execution_count": 4,
   "metadata": {},
   "outputs": [
    {
     "name": "stderr",
     "output_type": "stream",
     "text": [
      "/Users/Jax/opt/anaconda3/lib/python3.7/site-packages/IPython/core/interactiveshell.py:3063: DtypeWarning: Columns (33,34,35) have mixed types.Specify dtype option on import or set low_memory=False.\n",
      "  interactivity=interactivity, compiler=compiler, result=result)\n"
     ]
    }
   ],
   "source": [
    "data = pd.read_csv(r'/Users/Jax/Desktop/Research with Evan/pgadmin_data_tables/pgadmin_dsire_merge_1.csv')\n",
    "#data\n"
   ]
  },
  {
   "cell_type": "code",
   "execution_count": 5,
   "metadata": {},
   "outputs": [],
   "source": [
    "headers = []\n",
    "for col in data.columns:\n",
    "    headers.append(col)\n",
    "#headers"
   ]
  },
  {
   "cell_type": "code",
   "execution_count": 6,
   "metadata": {},
   "outputs": [
    {
     "data": {
      "text/plain": [
       "50"
      ]
     },
     "execution_count": 6,
     "metadata": {},
     "output_type": "execute_result"
    }
   ],
   "source": [
    "len(headers)"
   ]
  },
  {
   "cell_type": "code",
   "execution_count": 7,
   "metadata": {},
   "outputs": [],
   "source": [
    "data_string = data.applymap(str)\n",
    "#data_string"
   ]
  },
  {
   "cell_type": "code",
   "execution_count": 10,
   "metadata": {},
   "outputs": [],
   "source": [
    "#Create dictionary with key terms and count their occurances in the summary column"
   ]
  },
  {
   "cell_type": "code",
   "execution_count": 11,
   "metadata": {},
   "outputs": [],
   "source": [
    "summary_col = data_string['summary']\n",
    "\n",
    "sum_col_list = summary_col.tolist()\n",
    "\n",
    "unique_sums = []\n",
    "for summary in sum_col_list:\n",
    "    if summary not in unique_sums:\n",
    "        unique_sums.append(summary)\n",
    "        \n",
    "unique_sums_string = \" \".join(unique_sums)\n",
    "unique_sums_string = unique_sums_string.lower()"
   ]
  },
  {
   "cell_type": "code",
   "execution_count": 12,
   "metadata": {},
   "outputs": [
    {
     "data": {
      "text/plain": [
       "{'disadvantage': 5,\n",
       " 'diverse': 13,\n",
       " 'diversity': 6,\n",
       " 'high tech': 10,\n",
       " 'high-tech': 6,\n",
       " 'innovate': 0,\n",
       " 'innovation': 57,\n",
       " 'low income': 55,\n",
       " 'match': 134,\n",
       " 'matching': 75,\n",
       " 'minority': 1,\n",
       " 'poor': 5,\n",
       " 'poverty': 11,\n",
       " 'rebate': 6908,\n",
       " 'small business': 333,\n",
       " 'state match': 1,\n",
       " 'underrepresent': 0,\n",
       " 'woman': 0,\n",
       " 'women': 1}"
      ]
     },
     "execution_count": 12,
     "metadata": {},
     "output_type": "execute_result"
    }
   ],
   "source": [
    "sum_search_terms = ['disadvantage','diverse','diversity','high tech','high-tech',\n",
    "                    'innovate','innovation','low income','match','matching','minority',\n",
    "                    'poor','poverty','rebate','small business','state match',\n",
    "                    'underrepresent','woman', 'women']\n",
    "#Note: Do not use capital letters in the search terms, the data has been converted\n",
    "#      to only lower case letters\n",
    "\n",
    "search_term_counts = {}\n",
    "\n",
    "for word in sum_search_terms:\n",
    "    search_term_counts[word] = unique_sums_string.count(word)\n",
    "search_term_counts"
   ]
  },
  {
   "cell_type": "code",
   "execution_count": null,
   "metadata": {},
   "outputs": [],
   "source": []
  },
  {
   "cell_type": "code",
   "execution_count": 13,
   "metadata": {},
   "outputs": [],
   "source": [
    "#Search for program associated with a specific key term or terms in summary column"
   ]
  },
  {
   "cell_type": "code",
   "execution_count": 17,
   "metadata": {},
   "outputs": [
    {
     "name": "stdout",
     "output_type": "stream",
     "text": [
      "The terms searched in all columns were: ['innovation', 'diverse'] \n",
      " \n",
      " The IDs associated with those searchterms are: ['175', '355', '453', '552', '1217', '1606', '1996', '2444', '2485', '2863', '2877', '3279', '4856', '5558', '5860', '5861', '5883', '21826', '21863', '5107', '20802'] \n",
      " \n",
      " The program names associated with those searchterms are ['Energy Innovations Small Grant (EISG) Program', 'Illinois Clean Energy Community Foundation Grants', 'Net Metering', 'Self-Generation Incentive Program', 'Energy Star Home Grant Program', 'Renewable Energy and Energy-Efficient Technologies Grants Program', 'City of Ashland - Green Building Incentive', 'Northern Plains EC - Commercial Energy Efficiency Loan Program', 'Green Building Requirement', 'City of Costa Mesa - Fee Waiver for Green Building', 'North Carolina Green Business Fund', 'Qualifying Advanced Energy Manufacturing Investment Tax Credit', 'Small Wind Innovation Zone Program and Model Ordinance', 'City of Aspen and Pitkin County - Renewable Energy Mitigation Program Grants', 'Clean Energy Fund (CEF)', 'Clean Energy Standard', 'Seventhwave (formerly Energy Center of Wisconsin) - Energy Consulting', 'Energy Efficiency Resource Standard', 'City of Phoenix - Energize Phoenix Residential Incentives', 'Ohio Department of Development - Advanced Energy and Efficiency Programs']\n"
     ]
    }
   ],
   "source": [
    "summary_searchterm = ['innovation','diverse']\n",
    "#Note: Capitalization in the search terms here matters, so to find all instances of\n",
    "#      \"diverse\", search for both \"Diverse\" and \"diverse\"\n",
    "\n",
    "\n",
    "summary_contains_searchterm = []\n",
    "for searchterm in summary_searchterm:\n",
    "    summary_contains_searchterm.append(data_string[data_string['summary'].str.contains(searchterm)])\n",
    "\n",
    "\n",
    "summary_contains_searchterm_names = []\n",
    "for value in range(len(summary_contains_searchterm)):\n",
    "    summary_contains_searchterm_names.extend(summary_contains_searchterm[value]['program_name'])\n",
    "unique_sum_searchterm_names = []\n",
    "for result in summary_contains_searchterm_names:\n",
    "    if result not in unique_sum_searchterm_names:\n",
    "        unique_sum_searchterm_names.append(result)\n",
    "    \n",
    "    \n",
    "summary_contains_searchterm_programid = []\n",
    "for value in range(len(summary_contains_searchterm)):\n",
    "    summary_contains_searchterm_programid.extend(summary_contains_searchterm[value]['program_id'])\n",
    "unique_sum_searchterm_ids = []\n",
    "for result in summary_contains_searchterm_programid:\n",
    "    if result not in unique_sum_searchterm_ids:\n",
    "        unique_sum_searchterm_ids.append(result)\n",
    "\n",
    "#print('IDS ARE', unique_sum_searchterm_ids, \"\\n\" \"\\n\" 'NAMES ARE', unique_sum_searchterm_names)\n",
    "print(\"The terms searched in all columns were:\", summary_searchterms, \n",
    "      \"\\n\", \"\\n\", \"The IDs associated with those searchterms are:\", unique_sum_searchterm_ids,\n",
    "      \"\\n\", \"\\n\", \"The program names associated with those searchterms are\", unique_sum_searchterm_names)\n",
    "\n",
    "\n"
   ]
  },
  {
   "cell_type": "code",
   "execution_count": null,
   "metadata": {},
   "outputs": [],
   "source": []
  },
  {
   "cell_type": "code",
   "execution_count": null,
   "metadata": {},
   "outputs": [],
   "source": [
    "# Search for one or a list of key terms in all columns"
   ]
  },
  {
   "cell_type": "code",
   "execution_count": 18,
   "metadata": {},
   "outputs": [
    {
     "name": "stdout",
     "output_type": "stream",
     "text": [
      "The terms searched in all columns were: ['innovation', 'diverse'] \n",
      " \n",
      " The IDs associated with those searchterms are: ['175', '336', '4856', '355', '453', '552', '1217', '1606', '1996', '2444', '2485', '2863', '2877', '3279', '5558', '5860', '5861', '5883', '21826', '21863', '2266', '4828', '21032', '3656', '3982', '5107', '20802'] \n",
      " \n",
      " The program names associated with those searchterms are ['Energy Innovations Small Grant (EISG) Program', 'CCEF - Renewable Energy Projects in Pre-Development Program', 'Small Wind Innovation Zone Program and Model Ordinance', 'Illinois Clean Energy Community Foundation Grants', 'Net Metering', 'Self-Generation Incentive Program', 'Energy Star Home Grant Program', 'Renewable Energy and Energy-Efficient Technologies Grants Program', 'City of Ashland - Green Building Incentive', 'Northern Plains EC - Commercial Energy Efficiency Loan Program', 'Green Building Requirement', 'City of Costa Mesa - Fee Waiver for Green Building', 'North Carolina Green Business Fund', 'Qualifying Advanced Energy Manufacturing Investment Tax Credit', 'City of Aspen and Pitkin County - Renewable Energy Mitigation Program Grants', 'Clean Energy Fund (CEF)', 'Clean Energy Standard', 'Seventhwave (formerly Energy Center of Wisconsin) - Energy Consulting', 'Energy Efficiency Resource Standard', 'Diverse Power - Energy Efficient New Construction Rebate Programs', 'Diverse Power - Energy Efficient Existing Homes Rebate Program', 'Diverse Power - Green Power', 'Sustainable Energy Utility (SEU) - Energy Star Appliance Rebates', 'Sustainable Energy Utility (SEU) - Standard Lighting for Business Program', 'City of Phoenix - Energize Phoenix Residential Incentives', 'Ohio Department of Development - Advanced Energy and Efficiency Programs']\n"
     ]
    }
   ],
   "source": [
    "searchterm = ['innovation', 'diverse']\n",
    "#Note: Capitalization in the search terms here matters, so to find all instances of\n",
    "#      \"diverse\", search for both \"Diverse\" and \"diverse\"\n",
    "\n",
    "\n",
    "contains_searchterm = []\n",
    "for term in searchterm:\n",
    "    for header in headers:\n",
    "        contains_searchterm.append(data_string[data_string[header].str.contains(term)])\n",
    "\n",
    "contains_searchterm_names = []\n",
    "for value in range(len(contains_searchterm)):\n",
    "    contains_searchterm_names.extend(contains_searchterm[value]['program_name'])\n",
    "unique_searchterm_names = []\n",
    "for result in contains_searchterm_names:\n",
    "    if result not in unique_searchterm_names:\n",
    "        unique_searchterm_names.append(result)\n",
    "\n",
    "contains_searchterm_ids = []\n",
    "for value in range(len(contains_searchterm)):\n",
    "    contains_searchterm_ids.extend(contains_searchterm[value]['program_id'])\n",
    "unique_searchterm_ids = []\n",
    "for result in contains_searchterm_ids:\n",
    "    if result not in unique_searchterm_ids:\n",
    "        unique_searchterm_ids.append(result)\n",
    "\n",
    "print(\"The terms searched in all columns were:\", searchterm, \n",
    "      \"\\n\", \"\\n\", \"The IDs associated with those searchterms are:\", unique_searchterm_ids,\n",
    "      \"\\n\", \"\\n\", \"The program names associated with those searchterms are\", unique_searchterm_names)\n",
    "\n",
    "\n"
   ]
  },
  {
   "cell_type": "code",
   "execution_count": null,
   "metadata": {},
   "outputs": [],
   "source": []
  },
  {
   "cell_type": "code",
   "execution_count": 20,
   "metadata": {},
   "outputs": [],
   "source": [
    "#This code is no longer used, it was streamlined into a different code to create a\n",
    "#    dictionary with just the search terms needed\n",
    "\n",
    "\n",
    "#Create a dictionary with every word in the summary column to count how often they exist\n",
    "\n",
    "\n",
    "# summary_col = data_string['summary']\n",
    "\n",
    "# sum_col_list = summary_col.tolist()\n",
    "\n",
    "# unique_sums = []\n",
    "\n",
    "# for summary in sum_col_list:\n",
    "#     if summary not in unique_sums:\n",
    "#         unique_sums.append(summary)\n",
    "        \n",
    "# unique_sums_by_word = []\n",
    "\n",
    "# for value in range(len(unique_sums)):\n",
    "#     unique_sums_by_word.extend(unique_sums[value].split())\n",
    "    \n",
    "\n",
    "# unique_sums_word_freq = {}\n",
    "\n",
    "# for word in unique_sums_by_word:\n",
    "#     if word not in unique_sums_word_freq:\n",
    "#         unique_sums_word_freq[word]=0\n",
    "#     unique_sums_word_freq[word] = unique_sums_word_freq[word]+1\n",
    "\n"
   ]
  },
  {
   "cell_type": "code",
   "execution_count": null,
   "metadata": {},
   "outputs": [],
   "source": []
  }
 ],
 "metadata": {
  "kernelspec": {
   "display_name": "Python 3",
   "language": "python",
   "name": "python3"
  },
  "language_info": {
   "codemirror_mode": {
    "name": "ipython",
    "version": 3
   },
   "file_extension": ".py",
   "mimetype": "text/x-python",
   "name": "python",
   "nbconvert_exporter": "python",
   "pygments_lexer": "ipython3",
   "version": "3.7.6"
  }
 },
 "nbformat": 4,
 "nbformat_minor": 4
}
